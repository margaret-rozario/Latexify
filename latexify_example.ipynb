{
  "nbformat": 4,
  "nbformat_minor": 0,
  "metadata": {
    "colab": {
      "provenance": []
    },
    "kernelspec": {
      "name": "python3",
      "display_name": "Python 3"
    }
  },
  "cells": [
    {
      "cell_type": "markdown",
      "source": [
        "# `latexify` examples on Google Colaboratory\n",
        "\n",
        "This notebook provides several examples to use `latexify`.\n",
        "\n",
        "See also the [official documentation](https://github.com/google/latexify_py/blob/documentation/docs/index.md) for more details.\n",
        "\n",
        "If you have any questions, please ask it in the [issue tracker](https://github.com/google/latexify_py/issues)."
      ],
      "metadata": {
        "id": "W5mNJI3Bnl6n"
      }
    },
    {
      "cell_type": "markdown",
      "source": [
        "## Install `latexify`"
      ],
      "metadata": {
        "id": "fWCVgcRHoLd8"
      }
    },
    {
      "cell_type": "code",
      "metadata": {
        "id": "4IPGyu2dFH6T",
        "colab": {
          "base_uri": "https://localhost:8080/"
        },
        "outputId": "6555490e-81ed-4e31-82ea-c5fa2f467120"
      },
      "source": [
        "# Restart the runtime before running the examples below.\n",
        "!pip install latexify-py==0.2.0"
      ],
      "execution_count": 1,
      "outputs": [
        {
          "output_type": "stream",
          "name": "stdout",
          "text": [
            "Collecting latexify-py==0.2.0\n",
            "  Downloading latexify_py-0.2.0-py3-none-any.whl (22 kB)\n",
            "Collecting dill>=0.3.2 (from latexify-py==0.2.0)\n",
            "  Downloading dill-0.3.7-py3-none-any.whl (115 kB)\n",
            "\u001b[2K     \u001b[90m━━━━━━━━━━━━━━━━━━━━━━━━━━━━━━━━━━━━━━━\u001b[0m \u001b[32m115.3/115.3 kB\u001b[0m \u001b[31m3.7 MB/s\u001b[0m eta \u001b[36m0:00:00\u001b[0m\n",
            "\u001b[?25hInstalling collected packages: dill, latexify-py\n",
            "Successfully installed dill-0.3.7 latexify-py-0.2.0\n"
          ]
        }
      ]
    },
    {
      "cell_type": "markdown",
      "source": [
        "## Import `latexify` into your code"
      ],
      "metadata": {
        "id": "-Mzq4_dNoSmc"
      }
    },
    {
      "cell_type": "code",
      "metadata": {
        "id": "hViDMhyMFNCO",
        "colab": {
          "base_uri": "https://localhost:8080/",
          "height": 35
        },
        "outputId": "628540e1-0e39-478c-85c8-47ab901cc934"
      },
      "source": [
        "import math  # Optionally\n",
        "import latexify\n",
        "\n",
        "latexify.__version__"
      ],
      "execution_count": 2,
      "outputs": [
        {
          "output_type": "execute_result",
          "data": {
            "text/plain": [
              "'0.2.0'"
            ],
            "application/vnd.google.colaboratory.intrinsic+json": {
              "type": "string"
            }
          },
          "metadata": {},
          "execution_count": 2
        }
      ]
    },
    {
      "cell_type": "markdown",
      "source": [
        "## Examples"
      ],
      "metadata": {
        "id": "4QJ6I2s7odX1"
      }
    },
    {
      "cell_type": "code",
      "metadata": {
        "id": "NvbEYSwXFaeE",
        "colab": {
          "base_uri": "https://localhost:8080/",
          "height": 90
        },
        "outputId": "45212d47-ef39-4296-bcf2-f6d32016e297"
      },
      "source": [
        "@latexify.function\n",
        "def solve(a, b, c):\n",
        "  return (-b + math.sqrt(b**2 - 4*a*c)) / (2*a)\n",
        "\n",
        "print(solve(1, 4, 3))  # Invoking the function works as expected.\n",
        "print(solve)  # Printing the function shows the underlying LaTeX expression.\n",
        "solve  # Display the MathJax."
      ],
      "execution_count": 3,
      "outputs": [
        {
          "output_type": "stream",
          "name": "stdout",
          "text": [
            "-1.0\n",
            "\\mathrm{solve}(a, b, c) = \\frac{-b + \\sqrt{b^{{2}} - {4} a c}}{{2} a}\n"
          ]
        },
        {
          "output_type": "execute_result",
          "data": {
            "text/plain": [
              "<latexify.frontend.LatexifiedFunction at 0x7be83af16920>"
            ],
            "text/latex": "$$ \\displaystyle \\mathrm{solve}(a, b, c) = \\frac{-b + \\sqrt{b^{{2}} - {4} a c}}{{2} a} $$"
          },
          "metadata": {},
          "execution_count": 3
        }
      ]
    },
    {
      "cell_type": "code",
      "source": [
        "# latexify.expression works similarly, but does not output the signature.\n",
        "@latexify.expression\n",
        "def solve(a, b, c):\n",
        "  return (-b + math.sqrt(b**2 - 4*a*c)) / (2*a)\n",
        "\n",
        "solve"
      ],
      "metadata": {
        "colab": {
          "base_uri": "https://localhost:8080/",
          "height": 56
        },
        "id": "wS7BhtPgjSak",
        "outputId": "1cf6676d-6b02-4709-b2f5-72e12a70b324"
      },
      "execution_count": 4,
      "outputs": [
        {
          "output_type": "execute_result",
          "data": {
            "text/plain": [
              "<latexify.frontend.LatexifiedFunction at 0x7be83af17100>"
            ],
            "text/latex": "$$ \\displaystyle \\frac{-b + \\sqrt{b^{{2}} - {4} a c}}{{2} a} $$"
          },
          "metadata": {},
          "execution_count": 4
        }
      ]
    },
    {
      "cell_type": "code",
      "source": [
        "# latexify.get_latex obtains the underlying LaTeX expression directly.\n",
        "def solve(a, b, c):\n",
        "  return (-b + math.sqrt(b**2 - 4*a*c)) / (2*a)\n",
        "\n",
        "latexify.get_latex(solve)"
      ],
      "metadata": {
        "colab": {
          "base_uri": "https://localhost:8080/",
          "height": 35
        },
        "id": "G73dnoqqjg4A",
        "outputId": "634c8ef3-884b-4c34-9acf-d3e56e657cfe"
      },
      "execution_count": 5,
      "outputs": [
        {
          "output_type": "execute_result",
          "data": {
            "text/plain": [
              "'\\\\mathrm{solve}(a, b, c) = \\\\frac{-b + \\\\sqrt{b^{{2}} - {4} a c}}{{2} a}'"
            ],
            "application/vnd.google.colaboratory.intrinsic+json": {
              "type": "string"
            }
          },
          "metadata": {},
          "execution_count": 5
        }
      ]
    },
    {
      "cell_type": "code",
      "metadata": {
        "id": "8bYSWIngGF8E",
        "colab": {
          "base_uri": "https://localhost:8080/",
          "height": 61
        },
        "outputId": "4cce6a72-2289-4efb-afc7-101d1b784d2e"
      },
      "source": [
        "@latexify.function\n",
        "def sinc(x):\n",
        "  if x == 0:\n",
        "    return 1\n",
        "  else:\n",
        "    return math.sin(x) / x\n",
        "\n",
        "sinc"
      ],
      "execution_count": 6,
      "outputs": [
        {
          "output_type": "execute_result",
          "data": {
            "text/plain": [
              "<latexify.frontend.LatexifiedFunction at 0x7be83af17e80>"
            ],
            "text/latex": "$$ \\displaystyle \\mathrm{sinc}(x) = \\left\\{ \\begin{array}{ll} {1}, & \\mathrm{if} \\ {x = {0}} \\\\ \\frac{\\sin{\\left({x}\\right)}}{x}, & \\mathrm{otherwise} \\end{array} \\right. $$"
          },
          "metadata": {},
          "execution_count": 6
        }
      ]
    },
    {
      "cell_type": "code",
      "metadata": {
        "id": "h1i4BjdgHjxl",
        "colab": {
          "base_uri": "https://localhost:8080/",
          "height": 78
        },
        "outputId": "dd99056e-e7a6-4167-df7c-07d6fd37edb0"
      },
      "source": [
        "# Elif or nested else-if are unrolled.\n",
        "@latexify.function\n",
        "def fib(x):\n",
        "  if x == 0:\n",
        "    return 0\n",
        "  elif x == 1:\n",
        "    return 1\n",
        "  else:\n",
        "    return fib(x-1) + fib(x-2)\n",
        "\n",
        "fib"
      ],
      "execution_count": 7,
      "outputs": [
        {
          "output_type": "execute_result",
          "data": {
            "text/plain": [
              "<latexify.frontend.LatexifiedFunction at 0x7be83af16710>"
            ],
            "text/latex": "$$ \\displaystyle \\mathrm{fib}(x) = \\left\\{ \\begin{array}{ll} {0}, & \\mathrm{if} \\ {x = {0}} \\\\ {1}, & \\mathrm{if} \\ {x = {1}} \\\\ \\mathrm{fib}\\left(x - {1}\\right) + \\mathrm{fib}\\left(x - {2}\\right), & \\mathrm{otherwise} \\end{array} \\right. $$"
          },
          "metadata": {},
          "execution_count": 7
        }
      ]
    },
    {
      "cell_type": "code",
      "metadata": {
        "id": "-JhJMAXM7j-X",
        "colab": {
          "base_uri": "https://localhost:8080/",
          "height": 38
        },
        "outputId": "13b63e9d-3a09-4069-ee4d-04a247150253"
      },
      "source": [
        "# Some math symbols are converted automatically.\n",
        "@latexify.function(use_math_symbols=True)\n",
        "def greek(alpha, beta, gamma, Omega):\n",
        "  return alpha * beta + math.gamma(gamma) + Omega\n",
        "\n",
        "greek"
      ],
      "execution_count": 8,
      "outputs": [
        {
          "output_type": "execute_result",
          "data": {
            "text/plain": [
              "<latexify.frontend.LatexifiedFunction at 0x7be856128df0>"
            ],
            "text/latex": "$$ \\displaystyle \\mathrm{greek}({\\alpha}, {\\beta}, {\\gamma}, {\\Omega}) = {\\alpha} {\\beta} + \\Gamma\\left({{\\gamma}}\\right) + {\\Omega} $$"
          },
          "metadata": {},
          "execution_count": 8
        }
      ]
    },
    {
      "cell_type": "code",
      "source": [
        "# Function names, arguments, variables can be replaced.\n",
        "identifiers = {\n",
        "    \"my_function\": \"f\",\n",
        "    \"my_inner_function\": \"g\",\n",
        "    \"my_argument\": \"x\",\n",
        "}\n",
        "\n",
        "@latexify.function(identifiers=identifiers)\n",
        "def my_function(my_argument):\n",
        "    return my_inner_function(my_argument)\n",
        "\n",
        "my_function"
      ],
      "metadata": {
        "colab": {
          "base_uri": "https://localhost:8080/",
          "height": 38
        },
        "id": "ySyNPS0y4tzu",
        "outputId": "762be339-36b6-4988-f877-1d16341911c0"
      },
      "execution_count": 9,
      "outputs": [
        {
          "output_type": "execute_result",
          "data": {
            "text/plain": [
              "<latexify.frontend.LatexifiedFunction at 0x7be83af16d40>"
            ],
            "text/latex": "$$ \\displaystyle \\mathrm{f}(x) = \\mathrm{g}\\left(x\\right) $$"
          },
          "metadata": {},
          "execution_count": 9
        }
      ]
    },
    {
      "cell_type": "code",
      "source": [
        "# Assignments can be reduced into one expression.\n",
        "@latexify.function(reduce_assignments=True)\n",
        "def f(a, b, c):\n",
        "    discriminant = b**2 - 4 * a * c\n",
        "    numerator = -b + math.sqrt(discriminant)\n",
        "    denominator = 2 * a\n",
        "    return numerator / denominator\n",
        "\n",
        "f"
      ],
      "metadata": {
        "colab": {
          "base_uri": "https://localhost:8080/",
          "height": 56
        },
        "id": "TyacQaDM4Ei7",
        "outputId": "184eb5a0-ed34-4d57-b0ea-86d187c71f9b"
      },
      "execution_count": 10,
      "outputs": [
        {
          "output_type": "execute_result",
          "data": {
            "text/plain": [
              "<latexify.frontend.LatexifiedFunction at 0x7be83af17a60>"
            ],
            "text/latex": "$$ \\displaystyle \\mathrm{f}(a, b, c) = \\frac{-b + \\sqrt{b^{{2}} - {4} a c}}{{2} a} $$"
          },
          "metadata": {},
          "execution_count": 10
        }
      ]
    }
  ]
}